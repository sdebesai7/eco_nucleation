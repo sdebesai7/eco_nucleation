{
 "cells": [
  {
   "cell_type": "code",
   "execution_count": 1,
   "metadata": {},
   "outputs": [],
   "source": [
    "import numpy as np\n",
    "import scipy \n",
    "import pickle as pkl\n",
    "from EcologicalNucleation import *"
   ]
  },
  {
   "cell_type": "code",
   "execution_count": 2,
   "metadata": {},
   "outputs": [],
   "source": [
    "test=True"
   ]
  },
  {
   "cell_type": "code",
   "execution_count": 3,
   "metadata": {},
   "outputs": [],
   "source": [
    "#checking that 2-species LV works as expected\n",
    "if test:\n",
    "    T_tot=100\n",
    "    S=2\n",
    "    mu=[0.5, 0.5]\n",
    "    max_r=1\n",
    "    m=1\n",
    "    #A, delta_T, N, migrants=init_sim(S, T_tot, m, mu, max_r)\n",
    "    A=np.array([[0, -1], [1, 0]])\n",
    "    N=np.array([10, 5])\n",
    "    rates=np.array([1.5, -3])\n",
    "    num_migrants=0 #so there is essentially no migration    \n",
    "else:\n",
    "    T_tot=100\n",
    "    S=3\n",
    "    m=1 #the number of migrants is \n",
    "    mu=[0.9, 0.05, 0.05]#relative migration rate (must add to 1)\n",
    "    num_migrants=1\n",
    "    max_r=1\n",
    "    #A, delta_T, N, migrants=init_sim(S, T_tot, m, mu, max_r)\n",
    "    rates=np.random.uniform(-max_r, 0, (S,)) #do [-G-a, -G+a]\n",
    "    A=(np.random.uniform(-max_r, max_r, (S, S)) * abs(np.eye(S)-1)) - np.eye(S) \n",
    "    N=np.zeros(S)\n",
    "    \n",
    "es=EcoSim(N, S, m, T_tot, mu, A, rates, num_migrants)\n",
    "N_v_t, T, all_times, all_solns=es.full_simulate()"
   ]
  },
  {
   "cell_type": "code",
   "execution_count": 4,
   "metadata": {},
   "outputs": [],
   "source": [
    "with open('N_v_t.pkl', 'wb') as f:\n",
    "    pkl.dump(N_v_t, f)\n",
    "f.close()\n",
    "\n",
    "with open('A_matrix.pkl', 'wb') as f:\n",
    "    pkl.dump(A, f)\n",
    "f.close()\n",
    "\n",
    "with open('times.pkl', 'wb') as f:\n",
    "    pkl.dump(T, f)\n",
    "f.close()\n",
    "\n",
    "with open('rates.pkl', 'wb') as f:\n",
    "    pkl.dump(rates, f)\n",
    "f.close()\n",
    "\n",
    "with open('all_times.pkl', 'wb') as f:\n",
    "    pkl.dump(all_times, f)\n",
    "f.close()\n",
    "\n",
    "with open('all_solns.pkl', 'wb') as f:\n",
    "    pkl.dump(all_solns, f)\n",
    "f.close()"
   ]
  }
 ],
 "metadata": {
  "kernelspec": {
   "display_name": "genomic",
   "language": "python",
   "name": "python3"
  },
  "language_info": {
   "codemirror_mode": {
    "name": "ipython",
    "version": 3
   },
   "file_extension": ".py",
   "mimetype": "text/x-python",
   "name": "python",
   "nbconvert_exporter": "python",
   "pygments_lexer": "ipython3",
   "version": "3.10.13"
  }
 },
 "nbformat": 4,
 "nbformat_minor": 2
}
