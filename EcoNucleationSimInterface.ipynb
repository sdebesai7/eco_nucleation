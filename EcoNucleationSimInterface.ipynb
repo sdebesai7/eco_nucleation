{
 "cells": [
  {
   "cell_type": "code",
   "execution_count": 4,
   "metadata": {},
   "outputs": [],
   "source": [
    "import numpy as np\n",
    "import scipy \n",
    "import pickle as pkl\n",
    "from EcologicalNucleation import *"
   ]
  },
  {
   "cell_type": "code",
   "execution_count": 5,
   "metadata": {},
   "outputs": [],
   "source": [
    "test=True"
   ]
  },
  {
   "cell_type": "markdown",
   "metadata": {},
   "source": [
    "First sanity check: 2 species LV with oscillations "
   ]
  },
  {
   "cell_type": "code",
   "execution_count": 6,
   "metadata": {},
   "outputs": [
    {
     "name": "stdout",
     "output_type": "stream",
     "text": [
      "0\n"
     ]
    },
    {
     "ename": "UnboundLocalError",
     "evalue": "local variable 't_events' referenced before assignment",
     "output_type": "error",
     "traceback": [
      "\u001b[0;31m---------------------------------------------------------------------------\u001b[0m",
      "\u001b[0;31mUnboundLocalError\u001b[0m                         Traceback (most recent call last)",
      "Cell \u001b[0;32mIn[6], line 28\u001b[0m\n\u001b[1;32m     25\u001b[0m     N\u001b[38;5;241m=\u001b[39mnp\u001b[38;5;241m.\u001b[39mzeros(S)\n\u001b[1;32m     27\u001b[0m es\u001b[38;5;241m=\u001b[39mEcoSim(N, S, m, T_tot, mu, A, rates, num_migrants, curr_lambda)\n\u001b[0;32m---> 28\u001b[0m N_v_t, T, all_times, all_solns, num_mig_events, success, t_events, y_events\u001b[38;5;241m=\u001b[39m\u001b[43mes\u001b[49m\u001b[38;5;241;43m.\u001b[39;49m\u001b[43mfull_simulate\u001b[49m\u001b[43m(\u001b[49m\u001b[43m)\u001b[49m\n\u001b[1;32m     29\u001b[0m \u001b[38;5;28mprint\u001b[39m(\u001b[38;5;124m'\u001b[39m\u001b[38;5;124mnum migration events: \u001b[39m\u001b[38;5;124m'\u001b[39m, num_mig_events)\n\u001b[1;32m     30\u001b[0m \u001b[38;5;28mprint\u001b[39m(success)\n",
      "File \u001b[0;32m~/Documents/EcoNucleation/EcologicalNucleation.py:92\u001b[0m, in \u001b[0;36mEcoSim.full_simulate\u001b[0;34m(self)\u001b[0m\n\u001b[1;32m     89\u001b[0m \u001b[38;5;28;01melse\u001b[39;00m:\n\u001b[1;32m     90\u001b[0m     success\u001b[38;5;241m=\u001b[39m\u001b[38;5;28;01mFalse\u001b[39;00m\n\u001b[0;32m---> 92\u001b[0m \u001b[38;5;28;01mreturn\u001b[39;00m \u001b[38;5;28mself\u001b[39m\u001b[38;5;241m.\u001b[39mN_v_t, \u001b[38;5;28mself\u001b[39m\u001b[38;5;241m.\u001b[39mT, \u001b[38;5;28mself\u001b[39m\u001b[38;5;241m.\u001b[39mall_times, \u001b[38;5;28mself\u001b[39m\u001b[38;5;241m.\u001b[39mall_solns, i, success, \u001b[43mt_events\u001b[49m, y_events\n",
      "\u001b[0;31mUnboundLocalError\u001b[0m: local variable 't_events' referenced before assignment"
     ]
    }
   ],
   "source": [
    "#checking that 2-species LV works as expected\n",
    "if test:\n",
    "    T_tot=100\n",
    "    S=2\n",
    "    mu=[0.5, 0.5]\n",
    "    max_r=1\n",
    "    m=1\n",
    "    curr_lambda=100\n",
    "    #A, delta_T, N, migrants=init_sim(S, T_tot, m, mu, max_r)\n",
    "    #A=np.array([[0, -1], [1, 0]])\n",
    "    A=np.array([[0, 1], [1, 0]])\n",
    "    N=np.array([10, 5])\n",
    "    rates=np.array([1.5, -3])\n",
    "    num_migrants=0 #so there is essentially no migration    \n",
    "else:\n",
    "    T_tot=100\n",
    "    S=3\n",
    "    m=1 #the number of migrants is \n",
    "    mu=[0.9, 0.05, 0.05]#relative migration rate (must add to 1)\n",
    "    num_migrants=1\n",
    "    max_r=1\n",
    "    #A, delta_T, N, migrants=init_sim(S, T_tot, m, mu, max_r)\n",
    "    rates=np.random.uniform(-max_r, 0, (S,)) #do [-G-a, -G+a]\n",
    "    A=(np.random.uniform(-max_r, max_r, (S, S)) * abs(np.eye(S)-1)) - np.eye(S) \n",
    "    N=np.zeros(S)\n",
    "    \n",
    "es=EcoSim(N, S, m, T_tot, mu, A, rates, num_migrants, curr_lambda)\n",
    "N_v_t, T, all_times, all_solns, num_mig_events, success, t_events, y_events=es.full_simulate()\n",
    "print('num migration events: ', num_mig_events)\n",
    "print(success)\n",
    "print(t_events)\n",
    "print(y_events)\n",
    "#print(all_times)\n",
    "print('pop size: ', np.sum(all_solns, axis=1))"
   ]
  },
  {
   "cell_type": "code",
   "execution_count": 4,
   "metadata": {},
   "outputs": [],
   "source": [
    "with open('N_v_t.pkl', 'wb') as f:\n",
    "    pkl.dump(N_v_t, f)\n",
    "f.close()\n",
    "\n",
    "with open('A_matrix.pkl', 'wb') as f:\n",
    "    pkl.dump(A, f)\n",
    "f.close()\n",
    "\n",
    "with open('times.pkl', 'wb') as f:\n",
    "    pkl.dump(T, f)\n",
    "f.close()\n",
    "\n",
    "with open('rates.pkl', 'wb') as f:\n",
    "    pkl.dump(rates, f)\n",
    "f.close()\n",
    "\n",
    "with open('all_times.pkl', 'wb') as f:\n",
    "    pkl.dump(all_times, f)\n",
    "f.close()\n",
    "\n",
    "with open('all_solns.pkl', 'wb') as f:\n",
    "    pkl.dump(all_solns, f)\n",
    "f.close()"
   ]
  },
  {
   "cell_type": "markdown",
   "metadata": {},
   "source": [
    "Second sanity check: checking that Bob May's classic stability results are re-capitualated\n",
    "Consider some ecological dynamics for a set of $S$ species, which near a fixed point can be linearized such that \n",
    "\n",
    "\\begin{equation}\n",
    "\\frac{d}{dt}x = Ax\n",
    "\\end{equation}\n",
    "\n",
    "(as is the case with generalized lotka-volterra interactions)\n",
    "\n",
    "For large $S$, the probability that the equilibrium is stable is\n",
    "\\begin{cases}\n",
    "    P(n, \\alpha) \\rightarrow 1 && \\alpha < \\frac{1}{\\sqrt{n}} \\\\\n",
    "    P(n, \\alpha) \\rightarrow 0 && \\alpha > \\frac{1}{\\sqrt{n}} \\\\\n",
    "\\end{cases}\n",
    "\n",
    "where $\\alpha$ is the average interaction strength\n",
    " "
   ]
  },
  {
   "cell_type": "code",
   "execution_count": null,
   "metadata": {},
   "outputs": [],
   "source": [
    "T_tot=100\n",
    "S=100\n",
    "mu=[0.5, 0.5]\n",
    "max_r=1\n",
    "m=1\n",
    "curr_lambda=10000\n",
    "rng = np.random.default_rng()\n",
    "N=rng.uniform(0, 10, size=S) #randomly initialize population\n",
    "rates=np.zeros(S)\n",
    "num_migrants=0 #so there is essentially no migration \n",
    "alphas=np.array([0.05, 0.1, 0.15, 0.3])\n",
    "alpha_crit=(1/np.sqrt(100))"
   ]
  },
  {
   "cell_type": "code",
   "execution_count": null,
   "metadata": {},
   "outputs": [],
   "source": [
    "\n",
    "A=rng.normal(0, alpha, (S, S)) #sample from a gausian centered at 0 with variance 1 \n",
    "np.fill_diagonal(A, -1) #set self-interactions to -1"
   ]
  }
 ],
 "metadata": {
  "kernelspec": {
   "display_name": "genomic",
   "language": "python",
   "name": "python3"
  },
  "language_info": {
   "codemirror_mode": {
    "name": "ipython",
    "version": 3
   },
   "file_extension": ".py",
   "mimetype": "text/x-python",
   "name": "python",
   "nbconvert_exporter": "python",
   "pygments_lexer": "ipython3",
   "version": "3.10.13"
  }
 },
 "nbformat": 4,
 "nbformat_minor": 2
}
