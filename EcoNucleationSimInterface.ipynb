{
 "cells": [
  {
   "cell_type": "code",
   "execution_count": 13,
   "metadata": {},
   "outputs": [],
   "source": [
    "import numpy as np\n",
    "import scipy \n",
    "import pickle as pkl\n",
    "from EcologicalNucleation import *"
   ]
  },
  {
   "cell_type": "code",
   "execution_count": 14,
   "metadata": {},
   "outputs": [],
   "source": [
    "test=True"
   ]
  },
  {
   "cell_type": "code",
   "execution_count": 15,
   "metadata": {},
   "outputs": [
    {
     "ename": "TypeError",
     "evalue": "full_simulate() takes 7 positional arguments but 8 were given",
     "output_type": "error",
     "traceback": [
      "\u001b[0;31m---------------------------------------------------------------------------\u001b[0m",
      "\u001b[0;31mTypeError\u001b[0m                                 Traceback (most recent call last)",
      "Cell \u001b[0;32mIn[15], line 13\u001b[0m\n\u001b[1;32m     11\u001b[0m num_migrants\u001b[38;5;241m=\u001b[39m\u001b[38;5;241m0\u001b[39m \u001b[38;5;66;03m#so there is essentially no migration\u001b[39;00m\n\u001b[1;32m     12\u001b[0m rates\u001b[38;5;241m=\u001b[39mnp\u001b[38;5;241m.\u001b[39mrandom\u001b[38;5;241m.\u001b[39muniform(\u001b[38;5;241m-\u001b[39mmax_r, \u001b[38;5;241m0\u001b[39m, (S,))\n\u001b[0;32m---> 13\u001b[0m N_v_t, T\u001b[38;5;241m=\u001b[39m\u001b[43mfull_simulate\u001b[49m\u001b[43m(\u001b[49m\u001b[43mT_tot\u001b[49m\u001b[43m,\u001b[49m\u001b[43m \u001b[49m\u001b[43mS\u001b[49m\u001b[43m,\u001b[49m\u001b[43m \u001b[49m\u001b[43mN\u001b[49m\u001b[43m,\u001b[49m\u001b[43m \u001b[49m\u001b[43mnum_migrants\u001b[49m\u001b[43m,\u001b[49m\u001b[43m \u001b[49m\u001b[43mrates\u001b[49m\u001b[43m,\u001b[49m\u001b[43m \u001b[49m\u001b[43mA\u001b[49m\u001b[43m,\u001b[49m\u001b[43m \u001b[49m\u001b[43mdelta_T\u001b[49m\u001b[43m,\u001b[49m\u001b[43m \u001b[49m\u001b[43mmigrants\u001b[49m\u001b[43m)\u001b[49m\n",
      "\u001b[0;31mTypeError\u001b[0m: full_simulate() takes 7 positional arguments but 8 were given"
     ]
    }
   ],
   "source": [
    "#checking that 2-species LV works as expected\n",
    "if test:\n",
    "    T_tot=100\n",
    "    S=2\n",
    "    mu=[0.5, 0.5]\n",
    "    max_r=1\n",
    "    m=1\n",
    "    A, delta_T, N, migrants=init_sim(S, T_tot, m, mu, max_r)\n",
    "    N=np.array([10, 10])\n",
    "\n",
    "    num_migrants=0 #so there is essentially no migration\n",
    "    rates=np.random.uniform(-max_r, 0, (S,))\n",
    "    N_v_t, T=full_simulate(T_tot, S, N, num_migrants, rates, A, delta_T, migrants)"
   ]
  },
  {
   "cell_type": "code",
   "execution_count": null,
   "metadata": {},
   "outputs": [
    {
     "ename": "NameError",
     "evalue": "name 'test' is not defined",
     "output_type": "error",
     "traceback": [
      "\u001b[0;31m---------------------------------------------------------------------------\u001b[0m",
      "\u001b[0;31mNameError\u001b[0m                                 Traceback (most recent call last)",
      "Cell \u001b[0;32mIn[5], line 9\u001b[0m\n\u001b[1;32m      6\u001b[0m max_r\u001b[38;5;241m=\u001b[39m\u001b[38;5;241m1\u001b[39m\n\u001b[1;32m      7\u001b[0m rates\u001b[38;5;241m=\u001b[39mnp\u001b[38;5;241m.\u001b[39mrandom\u001b[38;5;241m.\u001b[39muniform(\u001b[38;5;241m-\u001b[39mmax_r, \u001b[38;5;241m0\u001b[39m, (S,)) \u001b[38;5;66;03m#do [-G-a, -G+a]\u001b[39;00m\n\u001b[0;32m----> 9\u001b[0m \u001b[38;5;28;01mif\u001b[39;00m \u001b[38;5;129;01mnot\u001b[39;00m \u001b[43mtest\u001b[49m:\n\u001b[1;32m     10\u001b[0m     A, delta_T, N, migrants\u001b[38;5;241m=\u001b[39minit_sim(S, T_tot, m, mu, max_r)\n",
      "\u001b[0;31mNameError\u001b[0m: name 'test' is not defined"
     ]
    }
   ],
   "source": [
    "T_tot=100\n",
    "S=3\n",
    "m=1 #the number of migrants is \n",
    "mu=[0.9, 0.05, 0.05]#relative migration rate (must add to 1)\n",
    "num_migrants=1\n",
    "max_r=1\n",
    "rates=np.random.uniform(-max_r, 0, (S,)) #do [-G-a, -G+a]\n",
    "A, delta_T, N, migrants=init_sim(S, T_tot, m, mu, max_r)"
   ]
  },
  {
   "cell_type": "code",
   "execution_count": null,
   "metadata": {},
   "outputs": [],
   "source": [
    "N_v_t, T=simulate(T_tot, S, num_migrants, rates, A, delta_T, migrants)"
   ]
  },
  {
   "cell_type": "code",
   "execution_count": null,
   "metadata": {},
   "outputs": [],
   "source": [
    "with open('N_v_t.pkl', 'wb') as f:\n",
    "    pkl.dump(N_v_t, f)\n",
    "f.close()\n",
    "\n",
    "with open('A_matrix.pkl', 'wb') as f:\n",
    "    pkl.dump(A, f)\n",
    "f.close()\n",
    "\n",
    "with open('times.pkl', 'wb') as f:\n",
    "    pkl.dump(T, f)\n",
    "f.close()\n",
    "\n",
    "with open('rates.pkl', 'wb') as f:\n",
    "    pkl.dump(rates, f)\n",
    "f.close()"
   ]
  }
 ],
 "metadata": {
  "kernelspec": {
   "display_name": "genomic",
   "language": "python",
   "name": "python3"
  },
  "language_info": {
   "codemirror_mode": {
    "name": "ipython",
    "version": 3
   },
   "file_extension": ".py",
   "mimetype": "text/x-python",
   "name": "python",
   "nbconvert_exporter": "python",
   "pygments_lexer": "ipython3",
   "version": "3.10.13"
  }
 },
 "nbformat": 4,
 "nbformat_minor": 2
}
