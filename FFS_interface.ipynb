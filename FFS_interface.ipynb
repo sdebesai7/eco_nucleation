{
 "cells": [
  {
   "cell_type": "code",
   "execution_count": 1,
   "metadata": {},
   "outputs": [],
   "source": [
    "import numpy as np\n",
    "import scipy \n",
    "import pickle as pkl\n",
    "from EcologicalNucleation import *"
   ]
  },
  {
   "cell_type": "code",
   "execution_count": 2,
   "metadata": {},
   "outputs": [],
   "source": [
    "test=True"
   ]
  },
  {
   "cell_type": "code",
   "execution_count": 3,
   "metadata": {},
   "outputs": [],
   "source": [
    "#checking that 2-species LV works as expected\n",
    "if test:\n",
    "    T_tot=100\n",
    "    S=2\n",
    "    mu=[0.5, 0.5]\n",
    "    m=1\n",
    "    A=np.array([[0, 1], [1, 0]])\n",
    "    N=np.array([10, 5])\n",
    "    rates=np.array([1.5, -3])\n",
    "    num_migrants=1 #so there is essentially no migration  \n",
    "    lambdas=np.array([50, 100, 1000])\n",
    "    num_trajs=1"
   ]
  },
  {
   "cell_type": "code",
   "execution_count": 4,
   "metadata": {},
   "outputs": [
    {
     "name": "stdout",
     "output_type": "stream",
     "text": [
      "[0]\n",
      "[0]\n",
      "[0]\n"
     ]
    }
   ],
   "source": [
    "ffs=FFS(lambdas, S, num_trajs, A, m, mu, rates, T_tot, num_migrants, True)\n",
    "ffs.run_FFS()"
   ]
  },
  {
   "cell_type": "code",
   "execution_count": 5,
   "metadata": {},
   "outputs": [],
   "source": [
    "data={}\n",
    "for lamb in lambdas:    \n",
    "    with open(str(lamb)+'_data.pkl', 'rb') as f:\n",
    "        data[lamb]=pkl.load(f)\n",
    "        f.close()"
   ]
  },
  {
   "cell_type": "code",
   "execution_count": 6,
   "metadata": {},
   "outputs": [
    {
     "name": "stdout",
     "output_type": "stream",
     "text": [
      "50\n",
      "[[32.59414442 17.40685558 50.001       0.          4.          1.        ]]\n",
      "100\n",
      "[[ 68.47931722  31.52168278 100.001        0.           2.\n",
      "    1.        ]]\n",
      "1000\n",
      "[[5.41916573e+02 4.58084427e+02 1.00000100e+03 0.00000000e+00\n",
      "  2.00000000e+00 1.00000000e+00]]\n"
     ]
    }
   ],
   "source": [
    "for lamb in data.keys():\n",
    "    print(lamb)\n",
    "    print(data[lamb])"
   ]
  }
 ],
 "metadata": {
  "kernelspec": {
   "display_name": "genomic",
   "language": "python",
   "name": "python3"
  },
  "language_info": {
   "codemirror_mode": {
    "name": "ipython",
    "version": 3
   },
   "file_extension": ".py",
   "mimetype": "text/x-python",
   "name": "python",
   "nbconvert_exporter": "python",
   "pygments_lexer": "ipython3",
   "version": "3.10.13"
  }
 },
 "nbformat": 4,
 "nbformat_minor": 2
}
