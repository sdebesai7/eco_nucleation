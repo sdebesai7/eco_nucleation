{
 "cells": [
  {
   "cell_type": "code",
   "execution_count": null,
   "metadata": {},
   "outputs": [],
   "source": [
    "import numpy as np\n",
    "import scipy \n",
    "import pickle as pkl\n",
    "from EcologicalNucleation import *"
   ]
  },
  {
   "cell_type": "code",
   "execution_count": null,
   "metadata": {},
   "outputs": [],
   "source": [
    "test=True"
   ]
  },
  {
   "cell_type": "code",
   "execution_count": null,
   "metadata": {},
   "outputs": [],
   "source": [
    "#checking that 2-species LV works as expected\n",
    "if test:\n",
    "    T_tot=100\n",
    "    S=2\n",
    "    mu=[0.5, 0.5]\n",
    "    m=1\n",
    "    A=np.array([[0, -1], [1, 0]])\n",
    "    N=np.array([10, 5])\n",
    "    rates=np.array([1.5, -3])\n",
    "    num_migrants=0 #so there is essentially no migration  \n",
    "    lambdas=\n",
    "    num_trajs=100"
   ]
  },
  {
   "cell_type": "code",
   "execution_count": null,
   "metadata": {},
   "outputs": [],
   "source": [
    "ffs=FFS(lambdas, S, num_trajs, A, m, mu, rates, T_tot)\n"
   ]
  }
 ],
 "metadata": {
  "kernelspec": {
   "display_name": "genomic",
   "language": "python",
   "name": "python3"
  },
  "language_info": {
   "name": "python",
   "version": "3.10.13"
  }
 },
 "nbformat": 4,
 "nbformat_minor": 2
}
